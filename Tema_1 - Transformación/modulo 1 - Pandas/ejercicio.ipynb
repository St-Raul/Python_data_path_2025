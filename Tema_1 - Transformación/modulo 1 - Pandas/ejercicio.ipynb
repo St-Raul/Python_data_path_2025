{
 "cells": [
  {
   "cell_type": "markdown",
   "id": "a4f2629c",
   "metadata": {},
   "source": [
    "# 🐼 Modulo 1 - Introduccion a Pandas\n",
    "\n",
    "\n",
    "- Deberás utilizar únicamente `pandas`y librerías estándar de Python para \n",
    "\n",
    "- resolver los distintos objetivos, este sera un proceso guiado para ayudarte a familiarizarte con la librería!\n",
    "\n",
    "- Responde a TODAS las preguntas dentro de las celdas de ejecución \n"
   ]
  },
  {
   "cell_type": "markdown",
   "id": "85fd005e",
   "metadata": {},
   "source": [
    "\n",
    "## 💡 Contexto:\n",
    "### El hospital \"Stemdata\" ha digitalizado su sistema de gestión de medicamentos. Te han entregado un archivo CSV\n",
    "### con registros de la administración de medicamentos a pacientes, con las siguientes columnas:\n",
    "\n",
    "- paciente_id: ID único del paciente\n",
    "- nombre_medicamento: nombre del fármaco administrado\n",
    "- dosis_mg: dosis suministrada (en miligramos)\n",
    "- frecuencia_dia: veces al día que se administra el medicamento\n",
    "- fecha_inicio: fecha de inicio del tratamiento\n",
    "- fecha_fin: fecha de finalización del tratamiento (puede estar vacía si sigue activo)\n",
    "- unidad: hospital, residencia o ambulatorio\n",
    "\n"
   ]
  },
  {
   "cell_type": "markdown",
   "id": "e239a355",
   "metadata": {},
   "source": [
    "## 📦 Ejercicio 1: Carga de datos\n",
    "### Cargar los datos desde un archivo CSV"
   ]
  },
  {
   "cell_type": "code",
   "execution_count": null,
   "id": "331a683a",
   "metadata": {
    "vscode": {
     "languageId": "plaintext"
    }
   },
   "outputs": [],
   "source": []
  },
  {
   "cell_type": "markdown",
   "id": "fab15ec4",
   "metadata": {},
   "source": [
    "## 🧼 Ejercicio 2: Limpieza y validación\n",
    "- Asegúrate de que no haya duplicados.\n",
    "- Las fechas deben estar en formato datetime.\n",
    "- Si fecha_fin está vacía, reemplázala por la fecha actual para calcular duración.\n",
    "- Revisa si hay dosis nulas o negativas."
   ]
  },
  {
   "cell_type": "code",
   "execution_count": null,
   "id": "76e9c4e5",
   "metadata": {
    "vscode": {
     "languageId": "plaintext"
    }
   },
   "outputs": [],
   "source": []
  },
  {
   "cell_type": "markdown",
   "id": "af7198e7",
   "metadata": {},
   "source": [
    "### 📊 Ejercicio 3: Análisis general\n",
    "- ¿Cuántos tratamientos únicos hay?\n",
    "- ¿Cuántos pacientes únicos están registrados?\n",
    "- ¿Cuáles son los 5 medicamentos más administrados?\n",
    "- ¿Cuáles son las unidades con más pacientes tratados?"
   ]
  },
  {
   "cell_type": "code",
   "execution_count": null,
   "id": "dd007236",
   "metadata": {
    "vscode": {
     "languageId": "plaintext"
    }
   },
   "outputs": [],
   "source": []
  },
  {
   "cell_type": "markdown",
   "id": "91d58cf6",
   "metadata": {},
   "source": [
    "### 🧠 Ejercicio 4: Cálculo de métricas clínicas\n",
    "- Crea una columna \"duracion_dias\" con la diferencia entre fecha_fin y fecha_inicio.\n",
    "- Calcula la \"dosis_total_mg\" por tratamiento (dosis x frecuencia_dia x duración_dias).\n",
    "- ¿Cuál es la dosis total promedio por medicamento?\n",
    "- ¿Qué paciente ha recibido la mayor dosis total acumulada?"
   ]
  },
  {
   "cell_type": "code",
   "execution_count": null,
   "id": "73300604",
   "metadata": {
    "vscode": {
     "languageId": "plaintext"
    }
   },
   "outputs": [],
   "source": []
  },
  {
   "cell_type": "markdown",
   "id": "3cb0e844",
   "metadata": {},
   "source": [
    "### 🛠️ Paso 5: Resolución de un problema\n",
    "### La administración necesita saber:\n",
    "- ¿Qué unidad tiene el mayor consumo total de medicamentos (en mg)?\n",
    "- ¿Qué medicamento tiene mayor variabilidad en duración de tratamientos?\n",
    "- ¿Qué tratamientos han durado más de 90 días?"
   ]
  },
  {
   "cell_type": "code",
   "execution_count": null,
   "id": "3564cf6b",
   "metadata": {
    "vscode": {
     "languageId": "plaintext"
    }
   },
   "outputs": [],
   "source": []
  }
 ],
 "metadata": {
  "language_info": {
   "name": "python"
  }
 },
 "nbformat": 4,
 "nbformat_minor": 5
}
