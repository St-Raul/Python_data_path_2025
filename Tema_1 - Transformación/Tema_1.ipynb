{
 "cells": [
  {
   "cell_type": "markdown",
   "id": "553e0d56",
   "metadata": {},
   "source": [
    "# Transformaciones\n",
    "Las transformaciones de datos son un paso fundamental en el análisis y preparación de datos. Consisten en modificar, reorganizar o limpiar los datos para que estén en un formato adecuado para el análisis o modelado. A continuación, se explican algunos conceptos básicos y ejemplos prácticos."
   ]
  },
  {
   "cell_type": "markdown",
   "id": "8ea90b78",
   "metadata": {},
   "source": [
    "## ¿Qué son las transformaciones de datos?\n",
    "Las transformaciones de datos implican aplicar operaciones a los datos para:\n",
    "\n",
    "1. **Limpiar datos**: Eliminar valores nulos, duplicados o inconsistencias.\n",
    "2. **Reformatear datos**: Cambiar el formato de columnas, como convertir fechas o cadenas a números.\n",
    "3. **Crear nuevas columnas**: Generar columnas derivadas de otras, como calcular porcentajes o diferencias.\n",
    "4. **Reorganizar datos**: Ordenar, agrupar o pivotar datos para facilitar el análisis."
   ]
  },
  {
   "cell_type": "markdown",
   "id": "470aa04b",
   "metadata": {},
   "source": [
    "## Transformaciones comunes\n",
    "\n",
    "1. **Normalización**: Escalar los datos para que estén en un rango específico.\n",
    "2. **Codificación**: Convertir datos categóricos en valores numéricos.\n",
    "3. **Agrupación**: Agrupar datos por categorías y calcular estadísticas.\n",
    "4. **Pivotar datos**: Transformar filas en columnas o viceversa."
   ]
  },
  {
   "cell_type": "markdown",
   "id": "be219e5d",
   "metadata": {},
   "source": [
    "## Importancia de las transformaciones\n",
    "\n",
    "Las transformaciones de datos son esenciales para:\n",
    "\n",
    "- **Preparar datos para modelos de aprendizaje automático**.\n",
    "- **Reducir errores y mejorar la calidad de los datos**.\n",
    "- **Facilitar el análisis y la visualización**."
   ]
  },
  {
   "cell_type": "markdown",
   "id": "a81c2db2",
   "metadata": {},
   "source": [
    "<hr>\n",
    "\n",
    "### Ahora que hemos entrado en contexto sobre qué son las transformaciones, vamos a ver como realizarlas. Para ello vamos a usar la biblioteca de **Pandas** y **Polars**"
   ]
  },
  {
   "cell_type": "markdown",
   "id": "adaf9ca5",
   "metadata": {},
   "source": [
    "# ¿Qué es Pandas?\n",
    "\n",
    "Pandas es una biblioteca de Python de código abierto que proporciona herramientas de análisis y manipulación de datos de alto rendimiento y fáciles de usar. Es ampliamente utilizada en el ámbito de la ciencia de datos, análisis estadístico y aprendizaje automático debido a su capacidad para manejar y procesar grandes volúmenes de datos de manera eficiente."
   ]
  },
  {
   "cell_type": "markdown",
   "id": "8d2514ce",
   "metadata": {},
   "source": [
    "## ¿En qué se basa?\n",
    "\n",
    "Pandas se basa en dos estructuras de datos principales:\n",
    "\n",
    "- **Series**: Una estructura unidimensional similar a una lista o un array de NumPy, pero con etiquetas para los índices.\n",
    "- **DataFrame**: Una estructura bidimensional similar a una tabla en una base de datos o una hoja de cálculo, con filas e índices etiquetados.\n",
    "\n",
    "Estas estructuras permiten realizar operaciones complejas de análisis y manipulación de datos de manera sencilla."
   ]
  },
  {
   "cell_type": "markdown",
   "id": "08fd9fa4",
   "metadata": {},
   "source": [
    "## Funciones principales\n",
    "\n",
    "Pandas incluye una amplia gama de funcionalidades, entre las que destacan:\n",
    "\n",
    "- **Lectura y escritura de datos**: Importar y exportar datos desde/para múltiples formatos como CSV, Excel, JSON, SQL, y más.\n",
    "- **Limpieza de datos**: Manejo de valores nulos, duplicados y transformación de datos.\n",
    "- **Filtrado y selección**: Selección de filas y columnas basadas en condiciones.\n",
    "- **Agrupación y agregación**: Agrupar datos y calcular estadísticas como suma, promedio, conteo, etc.\n",
    "- **Manipulación de datos**: Ordenar, fusionar, concatenar y pivotar datos.\n",
    "- **Análisis temporal**: Manejo de datos de series temporales, incluyendo fechas y frecuencias."
   ]
  },
  {
   "cell_type": "markdown",
   "id": "cee7574d",
   "metadata": {},
   "source": [
    "## ¿Para qué se usa Pandas?\n",
    "\n",
    "Pandas es ideal para:\n",
    "\n",
    "- **Análisis exploratorio de datos (EDA)**: Examinar y resumir datos para descubrir patrones y tendencias.\n",
    "- **Preparación de datos**: Transformar datos en un formato adecuado para el análisis o modelado.\n",
    "- **Análisis estadístico**: Calcular métricas y realizar operaciones estadísticas.\n",
    "- **Integración con otras bibliotecas**: Trabajar junto con bibliotecas como NumPy y Matplotlib para análisis y visualización de datos."
   ]
  },
  {
   "cell_type": "markdown",
   "id": "1aa46e4a",
   "metadata": {},
   "source": [
    "## Mejores casos de uso\n",
    "\n",
    "Pandas es especialmente útil en los siguientes escenarios:\n",
    "\n",
    "1. **Análisis financiero**: Procesar datos de mercado y realizar cálculos financieros.\n",
    "2. **Ciencia de datos**: Preparar conjuntos de datos para modelos de aprendizaje automático.\n",
    "3. **Análisis de series temporales**: Trabajar con datos de tiempo como precios de acciones o datos meteorológicos.\n",
    "4. **Limpieza de datos**: Transformar datos desordenados en un formato estructurado y limpio.\n",
    "5. **Automatización de informes**: Generar informes basados en datos de manera programática."
   ]
  },
  {
   "cell_type": "markdown",
   "id": "e820995e",
   "metadata": {},
   "source": [
    "## Instalación\n",
    "\n",
    "Para instalar Pandas, puedes usar `pip`"
   ]
  },
  {
   "cell_type": "code",
   "execution_count": null,
   "id": "3643742a",
   "metadata": {
    "vscode": {
     "languageId": "bat"
    }
   },
   "outputs": [],
   "source": [
    "pip install pandas"
   ]
  },
  {
   "cell_type": "markdown",
   "id": "9ea3b700",
   "metadata": {},
   "source": [
    "# Ejemplo Básico con Pandas\n",
    "Vamos a realizar un ejemplo básico de cómo usar Pandas para cargar y filtrar datos de un archivo CSV ubicado en la carpeta de \"Recursos\".\n",
    "\n",
    "**Instrucción**: Completa el código para cargar un CSV y filtrar los datos de una columna, comprobando si son > 25"
   ]
  },
  {
   "cell_type": "code",
   "execution_count": null,
   "id": "df224486",
   "metadata": {},
   "outputs": [],
   "source": []
  },
  {
   "cell_type": "markdown",
   "id": "6540b1a4",
   "metadata": {},
   "source": [
    "# Ejemplo Básico de Transformación con Pandas\n",
    "A continuación realizaremos un ejemplo paso a paso de cómo realizar transformaciones comunes con Pandas (Creación, Eliminación, Rellenado de valores nulos, Filtrado, Ordenación):\n",
    "\n",
    "Usa el siguiente DataFrame:\n",
    "\n",
    "```python\n",
    "#DataFrame con datos de ejemplo \n",
    "data = {'Nombre': ['Ana', 'Luis', 'María', 'Juan'],\n",
    "        'Edad': [25, 30, None, 22],\n",
    "        'Salario': [3000, 4000, 3500, None]}\n",
    "```\n",
    "\n",
    "**Instrucción**: Elimina las edades con valores nulos."
   ]
  },
  {
   "cell_type": "code",
   "execution_count": null,
   "id": "55b3e7ad",
   "metadata": {},
   "outputs": [],
   "source": []
  },
  {
   "cell_type": "markdown",
   "id": "bacb7c42",
   "metadata": {},
   "source": [
    "**Instrucción**: Establece un valor por defecto para los salarios con valores nulos."
   ]
  },
  {
   "cell_type": "code",
   "execution_count": null,
   "id": "d08a6133",
   "metadata": {},
   "outputs": [],
   "source": []
  },
  {
   "cell_type": "markdown",
   "id": "c1c53c60",
   "metadata": {},
   "source": [
    "**Instrucción**: Crea una nueva columna llamada \"Salario_anual\" cuyo valor sea el Salario multiplicado por 12."
   ]
  },
  {
   "cell_type": "code",
   "execution_count": null,
   "id": "40f38125",
   "metadata": {},
   "outputs": [],
   "source": []
  },
  {
   "cell_type": "markdown",
   "id": "4315f8d1",
   "metadata": {},
   "source": [
    "**Instrucción**: Crea un DataFrame con las personas que tienen una Edad superior a 25 años."
   ]
  },
  {
   "cell_type": "code",
   "execution_count": null,
   "id": "bf6dc4b3",
   "metadata": {},
   "outputs": [],
   "source": []
  },
  {
   "cell_type": "markdown",
   "id": "d023a807",
   "metadata": {},
   "source": [
    "**Instrucción**: Crea un DataFrame con los datos ordenados por salario en orden descentente."
   ]
  },
  {
   "cell_type": "code",
   "execution_count": null,
   "id": "93f98b99",
   "metadata": {},
   "outputs": [],
   "source": []
  },
  {
   "cell_type": "markdown",
   "id": "1957b51f",
   "metadata": {},
   "source": [
    "<hr>\n",
    "\n",
    "# ¿Qué es Polars?\n",
    "\n",
    "Polars es una biblioteca de Python diseñada para el análisis y manipulación de datos, similar a Pandas, pero optimizada para un rendimiento más alto. Está escrita en Rust, lo que le permite ser extremadamente rápida y eficiente en el manejo de grandes volúmenes de datos. Polars es especialmente útil en escenarios donde el rendimiento y la escalabilidad son críticos."
   ]
  },
  {
   "cell_type": "markdown",
   "id": "6a7f0730",
   "metadata": {},
   "source": [
    "## ¿En qué se basa?\n",
    "\n",
    "Polars utiliza estructuras de datos optimizadas para el procesamiento de datos en memoria:\n",
    "\n",
    "- **Series**: Una estructura unidimensional similar a las Series de Pandas, que representa una columna de datos.\n",
    "- **DataFrame**: Una estructura bidimensional que organiza los datos en filas y columnas, diseñada para ser altamente eficiente en operaciones paralelas.\n",
    "\n",
    "Estas estructuras están diseñadas para aprovechar al máximo los recursos del hardware, como la memoria y los núcleos de CPU."
   ]
  },
  {
   "cell_type": "markdown",
   "id": "e7c41cd1",
   "metadata": {},
   "source": [
    "## Funciones principales\n",
    "\n",
    "Polars incluye una amplia gama de funcionalidades, entre las que destacan:\n",
    "\n",
    "- **Lectura y escritura de datos**: Soporte para múltiples formatos como CSV, Parquet, JSON, y más.\n",
    "- **Manipulación de datos**: Filtrado, selección, ordenación y agrupación de datos.\n",
    "- **Operaciones en columnas**: Creación de nuevas columnas, transformación de datos y cálculos vectorizados.\n",
    "- **Procesamiento en paralelo**: Aprovecha múltiples núcleos de CPU para acelerar las operaciones.\n",
    "- **Soporte para datos de series temporales**: Manejo eficiente de datos con marcas de tiempo."
   ]
  },
  {
   "cell_type": "markdown",
   "id": "19b580d9",
   "metadata": {},
   "source": [
    "## ¿Para qué se usa Polars?\n",
    "\n",
    "Polars es ideal para:\n",
    "\n",
    "- **Procesamiento de grandes volúmenes de datos**: Manejo eficiente de datasets que no caben en memoria.\n",
    "- **Análisis de datos de alto rendimiento**: Realizar operaciones complejas en grandes conjuntos de datos de manera rápida.\n",
    "- **Procesamiento en pipelines**: Integración en flujos de trabajo de datos donde la velocidad es crucial.\n",
    "- **Análisis de series temporales**: Trabajar con datos de tiempo de manera eficiente.\n"
   ]
  },
  {
   "cell_type": "markdown",
   "id": "e8794088",
   "metadata": {},
   "source": [
    "## Mejores casos de uso\n",
    "\n",
    "Polars es especialmente útil en los siguientes escenarios:\n",
    "\n",
    "1. **Big Data**: Procesar grandes volúmenes de datos que requieren un rendimiento superior.\n",
    "2. **Análisis en tiempo real**: Realizar cálculos rápidos en datos que cambian constantemente.\n",
    "3. **Procesamiento distribuido**: Integración con sistemas de procesamiento distribuido como Apache Arrow.\n",
    "4. **Optimización de pipelines de datos**: Reducir el tiempo de ejecución en flujos de trabajo complejos.\n"
   ]
  },
  {
   "cell_type": "markdown",
   "id": "179ea15c",
   "metadata": {},
   "source": [
    "## Instalación\n",
    "\n",
    "Para instalar Polars, puedes usar `pip`"
   ]
  },
  {
   "cell_type": "code",
   "execution_count": null,
   "id": "857bda4c",
   "metadata": {
    "vscode": {
     "languageId": "bat"
    }
   },
   "outputs": [],
   "source": [
    "pip install polars"
   ]
  },
  {
   "cell_type": "markdown",
   "id": "3d7050eb",
   "metadata": {},
   "source": [
    "# Ejemplo Básico con Polars\n",
    "Vamos a realizar un ejemplo básico de cómo usar Polars para cargar y filtrar datos de un archivo CSV  ubicado en la carpeta de \"Recursos\", observaréis que es muy similar al uso de Pandas:\n",
    "\n",
    "\n",
    "**Instrucción**: Completa el código para cargar un CSV y filtrar los datos de una columna, comprobando si son > 25"
   ]
  },
  {
   "cell_type": "code",
   "execution_count": null,
   "id": "9985b5fe",
   "metadata": {},
   "outputs": [],
   "source": []
  },
  {
   "cell_type": "markdown",
   "id": "b2de059c",
   "metadata": {},
   "source": [
    "# Ejemplo Básico de Transformación con Polars\n",
    "A continuación realizaremos un ejemplo paso a paso de cómo realizar transformaciones comunes con Polars (Creación, Eliminación, Rellenado de valores nulos, Filtrado, Ordenación):\n",
    "\n",
    "Usa el siguiente DataFrame:\n",
    "\n",
    "```python\n",
    "#DataFrame con datos de ejemplo \n",
    "data = {'Nombre': ['Ana', 'Luis', 'María', 'Juan'],\n",
    "        'Edad': [25, 30, None, 22],\n",
    "        'Salario': [3000, 4000, 3500, None]}\n",
    "```\n",
    "\n",
    "**Instrucción**: Elimina las edades con valores nulos."
   ]
  },
  {
   "cell_type": "code",
   "execution_count": null,
   "id": "7cd20d53",
   "metadata": {},
   "outputs": [],
   "source": []
  },
  {
   "cell_type": "markdown",
   "id": "7ea5e678",
   "metadata": {},
   "source": [
    "**Instrucción**: Establece un valor por defecto para los salarios con valores nulos."
   ]
  },
  {
   "cell_type": "code",
   "execution_count": null,
   "id": "fcdbab6a",
   "metadata": {},
   "outputs": [],
   "source": []
  },
  {
   "cell_type": "markdown",
   "id": "65bb542e",
   "metadata": {},
   "source": [
    "**Instrucción**: Crea una nueva columna llamada \"Salario_anual\" cuyo valor sea el Salario multiplicado por 12."
   ]
  },
  {
   "cell_type": "code",
   "execution_count": null,
   "id": "532ebec1",
   "metadata": {},
   "outputs": [],
   "source": []
  },
  {
   "cell_type": "markdown",
   "id": "53527fb5",
   "metadata": {},
   "source": [
    "**Instrucción**: Crea un DataFrame con las personas que tienen una Edad superior a 25 años."
   ]
  },
  {
   "cell_type": "code",
   "execution_count": null,
   "id": "69cc29b6",
   "metadata": {},
   "outputs": [],
   "source": []
  },
  {
   "cell_type": "markdown",
   "id": "8a2cadbb",
   "metadata": {},
   "source": [
    "**Instrucción**: Crea un DataFrame con los datos ordenados por salario en orden descentente."
   ]
  },
  {
   "cell_type": "code",
   "execution_count": null,
   "id": "8681cf25",
   "metadata": {},
   "outputs": [],
   "source": []
  },
  {
   "cell_type": "markdown",
   "id": "5d99ad82",
   "metadata": {},
   "source": [
    "# Comparativa entre Pandas y Polars\n",
    "| **Característica**        | **Pandas**                                   | **Polars**                                   |\n",
    "|---------------------------|----------------------------------------------|----------------------------------------------|\n",
    "| **Rendimiento**           | Bueno para datasets pequeños y medianos      | Excelente para grandes volúmenes de datos    |\n",
    "| **Paralelismo**           | Limitado                                     | Soporte completo para procesamiento paralelo |\n",
    "| **Manejo de memoria**     | Menos eficiente                              | Muy eficiente                                |\n",
    "| **Facilidad de uso**      | Muy fácil, con una curva de aprendizaje baja | Fácil, pero requiere aprender nuevas APIs    |\n",
    "| **Soporte para Big Data** | Limitado                                     | Excelente, compatible con Apache Arrow       |\n",
    "| **Casos de uso ideales**  | Análisis exploratorio y preparación de datos | Procesamiento de datos a gran escala         |"
   ]
  },
  {
   "cell_type": "markdown",
   "id": "86c075f0",
   "metadata": {},
   "source": [
    "<hr>\n",
    "\n",
    "### ¡Bien! Ahora que hemos aprendido un poco sobre Pandas y Polars, vamos a ver la librería de NumPy, la cual será nuestra mayor aliada para la realización de operaciones matemáticas.\n"
   ]
  },
  {
   "cell_type": "markdown",
   "id": "f9bc360d",
   "metadata": {},
   "source": [
    "# ¿Qué es NumPy?\n",
    "\n",
    "NumPy es una biblioteca fundamental para la computación científica en Python. Proporciona soporte para trabajar con arrays multidimensionales y una amplia colección de funciones matemáticas de alto rendimiento para operar con ellos. Es ampliamente utilizada en análisis de datos, aprendizaje automático, simulaciones científicas y más.\n"
   ]
  },
  {
   "cell_type": "markdown",
   "id": "b35a09f7",
   "metadata": {},
   "source": [
    "## ¿En qué se basa?\n",
    "\n",
    "NumPy se basa en la estructura de datos llamada **ndarray** (array multidimensional), que permite realizar operaciones matemáticas de manera eficiente y vectorizada.\n",
    "\n",
    "- **ndarray**: Una estructura de datos que representa un array multidimensional homogéneo (todos los elementos deben ser del mismo tipo).\n",
    "\n",
    "Esta estructura está optimizada para realizar operaciones matemáticas y lógicas de manera rápida, aprovechando las capacidades del hardware.\n"
   ]
  },
  {
   "cell_type": "markdown",
   "id": "243d6e2f",
   "metadata": {},
   "source": [
    "## Funciones principales\n",
    "\n",
    "NumPy incluye una amplia gama de funcionalidades, entre las que destacan:\n",
    "\n",
    "- **Creación de arrays**: Generar arrays desde listas, rangos, o mediante funciones como `arange`, `linspace` y `random`.\n",
    "- **Operaciones matemáticas**: Suma, resta, multiplicación, división, potencias, raíces, etc., aplicadas de manera vectorizada.\n",
    "- **Manipulación de arrays**: Cambio de forma, transposición, concatenación y división de arrays.\n",
    "- **Funciones estadísticas**: Cálculo de media, mediana, desviación estándar, varianza, etc.\n",
    "- **Álgebra lineal**: Operaciones con matrices, determinantes, inversas, descomposiciones, etc.\n",
    "- **Manejo de datos faltantes**: Uso de máscaras y valores especiales como `np.nan` (NaN = Not A Number).\n"
   ]
  },
  {
   "cell_type": "markdown",
   "id": "f79386f1",
   "metadata": {},
   "source": [
    "## ¿Para qué se usa NumPy?\n",
    "\n",
    "NumPy es ideal para:\n",
    "\n",
    "- **Cálculos matemáticos y científicos**: Realizar operaciones complejas de manera eficiente.\n",
    "- **Procesamiento de datos**: Manipular y transformar datos en arrays multidimensionales.\n",
    "- **Simulaciones**: Crear modelos matemáticos y realizar simulaciones numéricas.\n",
    "- **Aprendizaje automático**: Preparar datos para modelos de machine learning.\n",
    "- **Gráficos y visualización**: Generar datos para visualizaciones con bibliotecas como Matplotlib.\n"
   ]
  },
  {
   "cell_type": "markdown",
   "id": "c88c8869",
   "metadata": {},
   "source": [
    "## Mejores casos de uso\n",
    "\n",
    "NumPy es especialmente útil en los siguientes escenarios:\n",
    "\n",
    "1. **Procesamiento de imágenes**: Trabajar con datos de imágenes representados como arrays.\n",
    "2. **Simulaciones científicas**: Resolver ecuaciones diferenciales, simulaciones físicas, etc.\n",
    "3. **Análisis de datos**: Realizar cálculos estadísticos y transformaciones de datos.\n",
    "4. **Optimización matemática**: Resolver problemas de optimización y álgebra lineal.\n",
    "5. **Preparación de datos**: Transformar datos en un formato adecuado para modelos de aprendizaje automático.\n"
   ]
  },
  {
   "cell_type": "markdown",
   "id": "2f37ad80",
   "metadata": {},
   "source": [
    "## Instalación\n",
    "\n",
    "Para instalar NumPy, puedes usar `pip`"
   ]
  },
  {
   "cell_type": "code",
   "execution_count": null,
   "id": "c4c7a31c",
   "metadata": {
    "vscode": {
     "languageId": "bat"
    }
   },
   "outputs": [],
   "source": [
    "pip install numpy"
   ]
  },
  {
   "cell_type": "markdown",
   "id": "462609aa",
   "metadata": {},
   "source": [
    "## Ejemplo básico de cómo usar NumPy para crear y manipular arrays\n",
    "\n",
    "Vamos a realizar un ejemplo básico de cómo usar NumPy para crear y manipular arrays."
   ]
  },
  {
   "cell_type": "markdown",
   "id": "3dc7de75",
   "metadata": {},
   "source": [
    "**Instrucción**: Crea un array unidimensional(array) y otro bidimensional(matriz)"
   ]
  },
  {
   "cell_type": "code",
   "execution_count": null,
   "id": "4e002091",
   "metadata": {},
   "outputs": [],
   "source": []
  },
  {
   "cell_type": "markdown",
   "id": "1d1d614a",
   "metadata": {},
   "source": [
    "**Instrucción**: Realiza operaciones matemáticas (Array multiplicado por 2, Suma de los elementos de la matriz)"
   ]
  },
  {
   "cell_type": "code",
   "execution_count": null,
   "id": "f9f365d0",
   "metadata": {},
   "outputs": [],
   "source": []
  },
  {
   "cell_type": "markdown",
   "id": "5589bc62",
   "metadata": {},
   "source": [
    "**Instrucción**: Crea un array con valores aleatorios"
   ]
  },
  {
   "cell_type": "code",
   "execution_count": null,
   "id": "ffc1480b",
   "metadata": {},
   "outputs": [],
   "source": []
  },
  {
   "cell_type": "markdown",
   "id": "75665259",
   "metadata": {},
   "source": [
    "**Instrucción**: Calcula la media y la desviación estándar"
   ]
  },
  {
   "cell_type": "code",
   "execution_count": null,
   "id": "fa3f5af0",
   "metadata": {},
   "outputs": [],
   "source": []
  },
  {
   "cell_type": "markdown",
   "id": "e3ed7723",
   "metadata": {},
   "source": [
    "**Instrucción**: Normaliza los datos (restamos la media y dividimos por la desviación estándar)"
   ]
  },
  {
   "cell_type": "code",
   "execution_count": null,
   "id": "135671a9",
   "metadata": {},
   "outputs": [],
   "source": []
  },
  {
   "cell_type": "markdown",
   "id": "e62d59cf",
   "metadata": {},
   "source": [
    "**Instrucción**: Transpon el array creado en la primera instrucción"
   ]
  },
  {
   "cell_type": "code",
   "execution_count": null,
   "id": "8efe85c2",
   "metadata": {},
   "outputs": [],
   "source": []
  },
  {
   "cell_type": "markdown",
   "id": "c32aca50",
   "metadata": {},
   "source": [
    "**Instrucción**: Filtra los elementos del array inicial mayores a 50"
   ]
  },
  {
   "cell_type": "code",
   "execution_count": null,
   "id": "a1eb6ac6",
   "metadata": {},
   "outputs": [],
   "source": []
  },
  {
   "cell_type": "markdown",
   "id": "cd82713c",
   "metadata": {},
   "source": [
    "<hr>"
   ]
  }
 ],
 "metadata": {
  "language_info": {
   "name": "python"
  }
 },
 "nbformat": 4,
 "nbformat_minor": 5
}
