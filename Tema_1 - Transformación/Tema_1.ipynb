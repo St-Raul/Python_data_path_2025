{
 "cells": [
  {
   "cell_type": "markdown",
   "id": "553e0d56",
   "metadata": {},
   "source": [
    "# Introducción a las Transformaciones de Datos\n",
    "Las transformaciones de datos son un paso fundamental en el análisis y preparación de datos. Consisten en modificar, reorganizar o limpiar los datos para que estén en un formato adecuado para el análisis o modelado. Estas transformaciones permiten mejorar la calidad de los datos, facilitar su análisis y prepararlos para modelos de aprendizaje automático."
   ]
  },
  {
   "cell_type": "markdown",
   "id": "470aa04b",
   "metadata": {},
   "source": [
    "# Transformaciones Comunes\n",
    "Algunas transformaciones comunes incluyen:\n",
    "\n",
    "1. **Normalización**: Escalar los datos para que estén en un rango específico.\n",
    "2. **Codificación**: Convertir datos categóricos en valores numéricos.\n",
    "3. **Agrupación**: Agrupar datos por categorías y calcular estadísticas.\n",
    "4. **Pivotar datos**: Transformar filas en columnas o viceversa.\n",
    "\n",
    "Estas operaciones son esenciales para preparar los datos para análisis más avanzados."
   ]
  },
  {
   "cell_type": "markdown",
   "id": "9ea3b700",
   "metadata": {},
   "source": [
    "# Ejemplo Básico con Pandas\n",
    "Pandas es una biblioteca de Python ampliamente utilizada para la manipulación y análisis de datos. En este ejemplo, cargaremos y filtraremos datos de un archivo CSV.\n",
    "\n",
    "**Instrucción**: Completa la celda de código a continuación para cargar un archivo CSV y filtrar los datos donde una columna específica tenga valores mayores a 10."
   ]
  },
  {
   "cell_type": "code",
   "execution_count": null,
   "id": "df224486",
   "metadata": {},
   "outputs": [],
   "source": []
  },
  {
   "cell_type": "markdown",
   "id": "6540b1a4",
   "metadata": {},
   "source": [
    "# Ejemplo Básico de Transformación con Pandas\n",
    "En este ejemplo, realizaremos transformaciones comunes con Pandas, como eliminar valores nulos, rellenar valores, crear nuevas columnas, filtrar y ordenar datos.\n",
    "\n",
    "**Instrucción**: Completa la celda de código a continuación para realizar las transformaciones indicadas."
   ]
  },
  {
   "cell_type": "code",
   "execution_count": null,
   "id": "55b3e7ad",
   "metadata": {},
   "outputs": [],
   "source": []
  },
  {
   "cell_type": "markdown",
   "id": "3d7050eb",
   "metadata": {},
   "source": [
    "# Ejemplo Básico con Polars\n",
    "Polars es una biblioteca de Python diseñada para el análisis de datos de alto rendimiento. En este ejemplo, cargaremos y filtraremos datos de un archivo CSV.\n",
    "\n",
    "**Instrucción**: Completa la celda de código a continuación para cargar un archivo CSV y filtrar los datos donde una columna específica tenga valores mayores a 10."
   ]
  },
  {
   "cell_type": "code",
   "execution_count": null,
   "id": "9985b5fe",
   "metadata": {},
   "outputs": [],
   "source": []
  },
  {
   "cell_type": "markdown",
   "id": "b2de059c",
   "metadata": {},
   "source": [
    "# Ejemplo Básico de Transformación con Polars\n",
    "En este ejemplo, realizaremos transformaciones comunes con Polars, como eliminar valores nulos, rellenar valores, crear nuevas columnas, filtrar y ordenar datos.\n",
    "\n",
    "**Instrucción**: Completa la celda de código a continuación para realizar las transformaciones indicadas."
   ]
  },
  {
   "cell_type": "code",
   "execution_count": null,
   "id": "7cd20d53",
   "metadata": {},
   "outputs": [],
   "source": []
  },
  {
   "cell_type": "markdown",
   "id": "5d99ad82",
   "metadata": {},
   "source": [
    "# Comparativa entre Pandas y Polars\n",
    "| **Característica**        | **Pandas**                                   | **Polars**                                   |\n",
    "|---------------------------|----------------------------------------------|----------------------------------------------|\n",
    "| **Rendimiento**           | Bueno para datasets pequeños y medianos      | Excelente para grandes volúmenes de datos    |\n",
    "| **Paralelismo**           | Limitado                                     | Soporte completo para procesamiento paralelo |\n",
    "| **Manejo de memoria**     | Menos eficiente                              | Muy eficiente                                |\n",
    "| **Facilidad de uso**      | Muy fácil, con una curva de aprendizaje baja | Fácil, pero requiere aprender nuevas APIs    |\n",
    "| **Soporte para Big Data** | Limitado                                     | Excelente, compatible con Apache Arrow       |\n",
    "| **Casos de uso ideales**  | Análisis exploratorio y preparación de datos | Procesamiento de datos a gran escala         |"
   ]
  }
 ],
 "metadata": {
  "language_info": {
   "name": "python"
  }
 },
 "nbformat": 4,
 "nbformat_minor": 5
}
