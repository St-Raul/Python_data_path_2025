{
 "cells": [
  {
   "cell_type": "markdown",
   "id": "553e0d56",
   "metadata": {},
   "source": [
    "# Introducción a las Transformaciones de Datos\n",
    "Las transformaciones de datos son un paso fundamental en el análisis y preparación de datos. Consisten en modificar, reorganizar o limpiar los datos para que estén en un formato adecuado para el análisis o modelado. Estas transformaciones permiten mejorar la calidad de los datos, facilitar su análisis y prepararlos para modelos de aprendizaje automático."
   ]
  },
  {
   "cell_type": "markdown",
   "id": "470aa04b",
   "metadata": {},
   "source": [
    "# Transformaciones Comunes\n",
    "Algunas transformaciones comunes incluyen:\n",
    "\n",
    "1. **Normalización**: Escalar los datos para que estén en un rango específico.\n",
    "2. **Codificación**: Convertir datos categóricos en valores numéricos.\n",
    "3. **Agrupación**: Agrupar datos por categorías y calcular estadísticas.\n",
    "4. **Pivotar datos**: Transformar filas en columnas o viceversa.\n",
    "\n",
    "Estas operaciones son esenciales para preparar los datos para análisis más avanzados."
   ]
  },
  {
   "cell_type": "markdown",
   "id": "9ea3b700",
   "metadata": {},
   "source": [
    "# Ejemplo Básico con Pandas\n",
    "Pandas es una biblioteca de Python ampliamente utilizada para la manipulación y análisis de datos. En este ejemplo, cargaremos y filtraremos datos de un archivo CSV.\n",
    "\n",
    "**Instrucción**: Completa el código para cargar un CSV y filtrar los datos de una columna, comprobando si son > 25"
   ]
  },
  {
   "cell_type": "code",
   "execution_count": null,
   "id": "df224486",
   "metadata": {},
   "outputs": [],
   "source": []
  },
  {
   "cell_type": "markdown",
   "id": "6540b1a4",
   "metadata": {},
   "source": [
    "# Ejemplo Básico de Transformación con Pandas\n",
    "En este ejemplo, realizaremos transformaciones comunes con Pandas, como eliminar valores nulos, rellenar valores, crear nuevas columnas, filtrar y ordenar datos.\n",
    "\n",
    "Usa el siguiente DataFrame:\n",
    "\n",
    "```python\n",
    "#DataFrame con datos de ejemplo \n",
    "data = {'Nombre': ['Ana', 'Luis', 'María', 'Juan'],\n",
    "        'Edad': [25, 30, None, 22],\n",
    "        'Salario': [3000, 4000, 3500, None]}\n",
    "```\n",
    "\n",
    "**Instrucción**: Elimina las edades con valores nulos."
   ]
  },
  {
   "cell_type": "code",
   "execution_count": null,
   "id": "55b3e7ad",
   "metadata": {},
   "outputs": [],
   "source": []
  },
  {
   "cell_type": "markdown",
   "id": "bacb7c42",
   "metadata": {},
   "source": [
    "**Instrucción**: Establece un valor por defecto para los salarios con valores nulos."
   ]
  },
  {
   "cell_type": "code",
   "execution_count": null,
   "id": "d08a6133",
   "metadata": {},
   "outputs": [],
   "source": []
  },
  {
   "cell_type": "markdown",
   "id": "c1c53c60",
   "metadata": {},
   "source": [
    "**Instrucción**: Crea una nueva columna llamada \"Salario_anual\" cuyo valor sea el Salario multiplicado por 12."
   ]
  },
  {
   "cell_type": "code",
   "execution_count": null,
   "id": "40f38125",
   "metadata": {},
   "outputs": [],
   "source": []
  },
  {
   "cell_type": "markdown",
   "id": "4315f8d1",
   "metadata": {},
   "source": [
    "**Instrucción**: Crea un DataFrame con las personas que tienen una Edad superior a 25 años."
   ]
  },
  {
   "cell_type": "code",
   "execution_count": null,
   "id": "bf6dc4b3",
   "metadata": {},
   "outputs": [],
   "source": []
  },
  {
   "cell_type": "markdown",
   "id": "d023a807",
   "metadata": {},
   "source": [
    "**Instrucción**: Crea un DataFrame con los datos ordenados por salario en orden descentente."
   ]
  },
  {
   "cell_type": "code",
   "execution_count": null,
   "id": "93f98b99",
   "metadata": {},
   "outputs": [],
   "source": []
  },
  {
   "cell_type": "markdown",
   "id": "3d7050eb",
   "metadata": {},
   "source": [
    "# Ejemplo Básico con Polars\n",
    "Polars es una biblioteca de Python diseñada para el análisis de datos de alto rendimiento. En este ejemplo, cargaremos y filtraremos datos de un archivo CSV.\n",
    "\n",
    "\n",
    "**Instrucción**: Completa el código para cargar un CSV y filtrar los datos de una columna, comprobando si son > 25"
   ]
  },
  {
   "cell_type": "code",
   "execution_count": null,
   "id": "9985b5fe",
   "metadata": {},
   "outputs": [],
   "source": []
  },
  {
   "cell_type": "markdown",
   "id": "b2de059c",
   "metadata": {},
   "source": [
    "# Ejemplo Básico de Transformación con Polars\n",
    "En este ejemplo, realizaremos transformaciones comunes con Polars, como eliminar valores nulos, rellenar valores, crear nuevas columnas, filtrar y ordenar datos.\n",
    "\n",
    "Usa el siguiente DataFrame:\n",
    "\n",
    "```python\n",
    "#DataFrame con datos de ejemplo \n",
    "data = {'Nombre': ['Ana', 'Luis', 'María', 'Juan'],\n",
    "        'Edad': [25, 30, None, 22],\n",
    "        'Salario': [3000, 4000, 3500, None]}\n",
    "```\n",
    "\n",
    "**Instrucción**: Elimina las edades con valores nulos."
   ]
  },
  {
   "cell_type": "code",
   "execution_count": null,
   "id": "7cd20d53",
   "metadata": {},
   "outputs": [],
   "source": []
  },
  {
   "cell_type": "markdown",
   "id": "7ea5e678",
   "metadata": {},
   "source": [
    "**Instrucción**: Establece un valor por defecto para los salarios con valores nulos."
   ]
  },
  {
   "cell_type": "code",
   "execution_count": null,
   "id": "fcdbab6a",
   "metadata": {},
   "outputs": [],
   "source": []
  },
  {
   "cell_type": "markdown",
   "id": "65bb542e",
   "metadata": {},
   "source": [
    "**Instrucción**: Crea una nueva columna llamada \"Salario_anual\" cuyo valor sea el Salario multiplicado por 12."
   ]
  },
  {
   "cell_type": "code",
   "execution_count": null,
   "id": "532ebec1",
   "metadata": {},
   "outputs": [],
   "source": []
  },
  {
   "cell_type": "markdown",
   "id": "53527fb5",
   "metadata": {},
   "source": [
    "**Instrucción**: Crea un DataFrame con las personas que tienen una Edad superior a 25 años."
   ]
  },
  {
   "cell_type": "code",
   "execution_count": null,
   "id": "69cc29b6",
   "metadata": {},
   "outputs": [],
   "source": []
  },
  {
   "cell_type": "markdown",
   "id": "8a2cadbb",
   "metadata": {},
   "source": [
    "**Instrucción**: Crea un DataFrame con los datos ordenados por salario en orden descentente."
   ]
  },
  {
   "cell_type": "code",
   "execution_count": null,
   "id": "8681cf25",
   "metadata": {},
   "outputs": [],
   "source": []
  },
  {
   "cell_type": "markdown",
   "id": "5d99ad82",
   "metadata": {},
   "source": [
    "# Comparativa entre Pandas y Polars\n",
    "| **Característica**        | **Pandas**                                   | **Polars**                                   |\n",
    "|---------------------------|----------------------------------------------|----------------------------------------------|\n",
    "| **Rendimiento**           | Bueno para datasets pequeños y medianos      | Excelente para grandes volúmenes de datos    |\n",
    "| **Paralelismo**           | Limitado                                     | Soporte completo para procesamiento paralelo |\n",
    "| **Manejo de memoria**     | Menos eficiente                              | Muy eficiente                                |\n",
    "| **Facilidad de uso**      | Muy fácil, con una curva de aprendizaje baja | Fácil, pero requiere aprender nuevas APIs    |\n",
    "| **Soporte para Big Data** | Limitado                                     | Excelente, compatible con Apache Arrow       |\n",
    "| **Casos de uso ideales**  | Análisis exploratorio y preparación de datos | Procesamiento de datos a gran escala         |"
   ]
  }
 ],
 "metadata": {
  "language_info": {
   "name": "python"
  }
 },
 "nbformat": 4,
 "nbformat_minor": 5
}
