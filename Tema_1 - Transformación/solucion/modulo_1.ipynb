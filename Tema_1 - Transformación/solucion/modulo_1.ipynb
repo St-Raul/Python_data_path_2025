{
 "cells": [
  {
   "cell_type": "markdown",
   "id": "997cf574",
   "metadata": {},
   "source": [
    "# 🧪 Solución del ejercicio: Análisis de Medicamentos en el Hospital"
   ]
  },
  {
   "cell_type": "code",
   "execution_count": null,
   "id": "2507aadd",
   "metadata": {},
   "outputs": [],
   "source": [
    "import pandas as pd\n",
    "from datetime import datetime\n",
    "\n",
    "df = pd.read_csv('datos_medicamentos.csv')"
   ]
  },
  {
   "cell_type": "markdown",
   "id": "2ced0cff",
   "metadata": {},
   "source": [
    "## 🧼 Paso 2: Limpieza"
   ]
  },
  {
   "cell_type": "code",
   "execution_count": null,
   "id": "ca214951",
   "metadata": {},
   "outputs": [],
   "source": [
    "df.drop_duplicates(inplace=True)\n",
    "df['fecha_inicio'] = pd.to_datetime(df['fecha_inicio'])\n",
    "df['fecha_fin'] = pd.to_datetime(df['fecha_fin'])\n",
    "df['fecha_fin'].fillna(pd.Timestamp.today().normalize(), inplace=True)\n",
    "df = df[df['dosis_mg'].notna() & (df['dosis_mg'] > 0)]"
   ]
  },
  {
   "cell_type": "markdown",
   "id": "f1a35487",
   "metadata": {},
   "source": [
    "## 📊 Paso 3: Análisis general"
   ]
  },
  {
   "cell_type": "code",
   "execution_count": null,
   "id": "f11c37d5",
   "metadata": {},
   "outputs": [],
   "source": [
    "print('Tratamientos únicos:', len(df))\n",
    "print('Pacientes únicos:', df['paciente_id'].nunique())\n",
    "print('Top 5 medicamentos:')\n",
    "print(df['nombre_medicamento'].value_counts().head(5))\n",
    "print('Unidades con más pacientes:')\n",
    "print(df.groupby('unidad')['paciente_id'].nunique().sort_values(ascending=False))"
   ]
  },
  {
   "cell_type": "markdown",
   "id": "e30ab4c2",
   "metadata": {},
   "source": [
    "## 🧠 Paso 4: Cálculo de métricas clínicas"
   ]
  },
  {
   "cell_type": "code",
   "execution_count": null,
   "id": "3c08d6ef",
   "metadata": {},
   "outputs": [],
   "source": [
    "df['duracion_dias'] = (df['fecha_fin'] - df['fecha_inicio']).dt.days\n",
    "df['dosis_total_mg'] = df['dosis_mg'] * df['frecuencia_dia'] * df['duracion_dias']\n",
    "print('Dosis promedio por medicamento:')\n",
    "print(df.groupby('nombre_medicamento')['dosis_total_mg'].mean())\n",
    "print('Paciente con mayor dosis total acumulada:')\n",
    "print(df.groupby('paciente_id')['dosis_total_mg'].sum().idxmax())"
   ]
  },
  {
   "cell_type": "markdown",
   "id": "49c2496f",
   "metadata": {},
   "source": [
    "## 🛠️ Paso 5: Resolución de problemas"
   ]
  },
  {
   "cell_type": "code",
   "execution_count": null,
   "id": "0d78223d",
   "metadata": {},
   "outputs": [],
   "source": [
    "print('Unidad con mayor consumo total de medicamentos (mg):')\n",
    "print(df.groupby('unidad')['dosis_total_mg'].sum().sort_values(ascending=False))\n",
    "print('Medicamento con mayor variabilidad en duración:')\n",
    "print(df.groupby('nombre_medicamento')['duracion_dias'].std().sort_values(ascending=False).head(1))\n",
    "print('Tratamientos con duración mayor a 90 días:')\n",
    "print(df[df['duracion_dias'] > 90])"
   ]
  }
 ],
 "metadata": {},
 "nbformat": 4,
 "nbformat_minor": 5
}